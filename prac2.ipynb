{
 "cells": [
  {
   "cell_type": "code",
   "execution_count": 1,
   "metadata": {},
   "outputs": [
    {
     "name": "stdout",
     "output_type": "stream",
     "text": [
      "4.870967742\n",
      "[0.         0.12903226 0.09677419 0.43548387 0.33870968]\n",
      "[0.         0.         0.69086022 0.14516129 0.14784946 0.01612903]\n"
     ]
    }
   ],
   "source": [
    "import pprint\n",
    "from scipy.optimize import linprog\n",
    "import numpy as np\n",
    "import sys\n",
    "import unittest\n",
    "\n",
    "def nash_equilibrium(a):\n",
    "    numrows = len(a)\n",
    "    numcols = len(a[0])\n",
    "\n",
    "    c1 = [1] * numrows\n",
    "    c2 = [-1] * numcols\n",
    "    \n",
    "    min_el = a[0][0]\n",
    "    for i in range(numrows):\n",
    "        for j in range(numcols):\n",
    "            if a[i][j] < min_el:\n",
    "                min_el = a[i][j]\n",
    "    was_le_zero = False\n",
    "    if min_el <= 0:\n",
    "        was_le_zero = True\n",
    "        for i in range(numrows):\n",
    "            for j in range(numcols):\n",
    "                a[i][j] = a[i][j] - min_el + 1 \n",
    "\n",
    "    A2 = np.asarray(a)\n",
    "    A1 = -1 * np.asarray(A2.transpose())\n",
    "\n",
    "    b1 = [-1] * numcols\n",
    "    b2 = [1] * numrows\n",
    "\n",
    "    res1 = linprog(c1, A_ub=A1, b_ub=b1)\n",
    "    res2 = linprog(c2, A_ub=A2, b_ub=b2)\n",
    "\n",
    "    v = 1/res1.fun\n",
    "\n",
    "    p = [1] * numrows\n",
    "    q = [1] * numcols\n",
    "\n",
    "    p = res1.x * v\n",
    "    q = res2.x * v\n",
    "    if was_le_zero:\n",
    "        v = v + min_el - 1 \n",
    "\n",
    "    print(np.around(v, decimals = 9))\n",
    "    print(np.around(p.tolist(), decimals = 9))\n",
    "    print(np.around(q.tolist(), decimals = 9))\n",
    "    return p, q\n",
    "\n",
    "matrix = open('matrix.txt').read()\n",
    "matrix = [item.split() for item in matrix.split('\\n')[:-1]]\n",
    "\n",
    "for i in range(len(matrix)):\n",
    "    for j in range(len(matrix[0])):\n",
    "        matrix[i][j] = int(matrix[i][j])\n",
    "\n",
    "p, q = nash_equilibrium(matrix)\n"
   ]
  },
  {
   "cell_type": "code",
   "execution_count": 2,
   "metadata": {},
   "outputs": [],
   "source": [
    "import matplotlib.pyplot as plt\n",
    "fig = plt.figure()\n",
    "n1 = np.arange(1, len(p) + 1)\n",
    "n2 = np.arange(1, len(q) + 1)"
   ]
  },
  {
   "cell_type": "code",
   "execution_count": 3,
   "metadata": {},
   "outputs": [
    {
     "data": {
      "image/png": "[encoded data removed]",
      "text/plain": [
       "<Figure size 432x288 with 1 Axes>"
      ]
     },
     "metadata": {},
     "output_type": "display_data"
    }
   ],
   "source": [
    "plt.plot(n1, p, 'go')\n",
    "plt.bar(n1, p, width = 0.01, color = 'g')\n",
    "plt.title(\"Спектры оптимальных стратегий первого игрока\")\n",
    "plt.show()"
   ]
  },
  {
   "cell_type": "code",
   "execution_count": 4,
   "metadata": {},
   "outputs": [
    {
     "data": {
      "image/png": "[encoded data removed]",
      "text/plain": [
       "<Figure size 432x288 with 1 Axes>"
      ]
     },
     "metadata": {},
     "output_type": "display_data"
    }
   ],
   "source": [
    "plt.plot(n2, q, 'yo')\n",
    "plt.bar(n2, q, width = 0.02, color = 'y')\n",
    "plt.title(\"Спектры оптимальных стратегий второго игрока\")\n",
    "plt.show()"
   ]
  },
  {
   "cell_type": "code",
   "execution_count": 9,
   "metadata": {},
   "outputs": [
    {
     "name": "stderr",
     "output_type": "stream",
     "text": [
      "..."
     ]
    },
    {
     "name": "stdout",
     "output_type": "stream",
     "text": [
      "1.75\n",
      "[0.25 0.75]\n",
      "[0.625 0.375]\n",
      "5.375\n",
      "[0.875 0.    0.    0.125]\n",
      "[0.375 0.625]\n",
      "2.0\n",
      "[0. 1.]\n",
      "[1. 0.]\n"
     ]
    },
    {
     "name": "stderr",
     "output_type": "stream",
     "text": [
      "\n",
      "----------------------------------------------------------------------\n",
      "Ran 3 tests in 0.051s\n",
      "\n",
      "OK\n"
     ]
    },
    {
     "data": {
      "text/plain": [
       "<unittest.runner.TextTestResult run=3 errors=0 failures=0>"
      ]
     },
     "execution_count": 9,
     "metadata": {},
     "output_type": "execute_result"
    }
   ],
   "source": [
    "class Test(unittest.TestCase):\n",
    "   \n",
    "    def test1(self):\n",
    "        x = np.array([[4, -2], [1, 3]])\n",
    "        p = np.array([0.25, 0.75])\n",
    "        q = np.array([0.625, 0.375])\n",
    "        pn, qn = nash_equilibrium(x)\n",
    "        self.assertEqual(p.all(), pn.all())\n",
    "        self.assertEqual(q.all(), qn.all())\n",
    "        \n",
    "    def test2(self):\n",
    "        x = np.array([[6, 5], [4, 6], [2, 7], [1, 8]])\n",
    "        p = np.array([0.875, 0., 0., 0.125])\n",
    "        q = np.array([0.375, 0.625])\n",
    "        pn, qn = nash_equilibrium(x)\n",
    "        self.assertEqual(p.all(), pn.all())\n",
    "        self.assertEqual(q.all(), qn.all())\n",
    "        \n",
    "    def test3(self):\n",
    "        x = np.array([[1, -3], [2, 2]])\n",
    "        p = np.array([0., 1.])\n",
    "        q = np.array([1., 0.])\n",
    "        pn, qn = nash_equilibrium(x)\n",
    "        self.assertEqual(p.all(), pn.all())\n",
    "        self.assertEqual(q.all(), qn.all())\n",
    "         \n",
    "t = unittest.TestLoader().loadTestsFromTestCase(Test)\n",
    "unittest.TextTestRunner().run(t)"
   ]
  },
  {
   "cell_type": "code",
   "execution_count": null,
   "metadata": {},
   "outputs": [],
   "source": []
  }
 ],
 "metadata": {
  "kernelspec": {
   "display_name": "Python 3",
   "language": "python",
   "name": "python3"
  },
  "language_info": {
   "codemirror_mode": {
    "name": "ipython",
    "version": 3
   },
   "file_extension": ".py",
   "mimetype": "text/x-python",
   "name": "python",
   "nbconvert_exporter": "python",
   "pygments_lexer": "ipython3",
   "version": "3.6.5"
  }
 },
 "nbformat": 4,
 "nbformat_minor": 2
}
